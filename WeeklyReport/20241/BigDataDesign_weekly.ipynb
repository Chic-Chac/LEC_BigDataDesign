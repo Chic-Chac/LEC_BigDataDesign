{
 "cells": [
  {
   "attachments": {},
   "cell_type": "markdown",
   "metadata": {},
   "source": [
    "# Weekly Report\n",
    "- Team members: 2 Kim, 2201562 Lee, 2201563 Chun\n",
    "- Meeting Date: 21800419 Seong-gyu Ahn, 21800272 Sang-beom Park ,21900121 Se-hee Kim ,22000245 Byeo-ri Moon\n",
    "- Project Name: Development of a Pilot LLM Specifically Designed for Automotive Regulation\n",
    "- Project Goal: Creating an automotive legal chatbot to help engineers proactively address regulatory issues due to the rapid growth and dynamic changes in the automotive industry.\n",
    "- "
   ]
  },
  {
   "attachments": {},
   "cell_type": "markdown",
   "metadata": {},
   "source": [
    "### Weekly plan (Fill this in)\n",
    "\n",
    "| Week    | Schedule        | Note                      |\n",
    "|---------|-----------------|---------------------------|\n",
    "| Week 9  | Meeting with the Principal Investigator | |\n",
    "| Week 10 |            Meeting with the Principal Investigator     |                  refine the domain         |\n",
    "| Week 11 |                 |                           |\n",
    "| Week 12 |                 |                           |\n",
    "| Week 13 |                 |                           |\n",
    "| Week 14 |                 |                           |\n",
    "| Week 15 |                 |                           |\n",
    "| Week 16 |                 |                           |\n",
    "\n"
   ]
  },
  {
   "attachments": {},
   "cell_type": "markdown",
   "metadata": {},
   "source": [
    "### Summary of previous meeting\n",
    "- Previous discussion: which recall part and law do we watch\n",
    "- Comments from Professor:  Listen to the Principal Investigator and make your own judgement Designing a clean presentation\n",
    "- Previous plan:  Compare model performance"
   ]
  },
  {
   "attachments": {},
   "cell_type": "markdown",
   "metadata": {},
   "source": [
    "### Summary of working progress\n",
    "- Level of progress in weekly plan: 30 % completed\n",
    "- Progress 1: selecting wihch recall part\n",
    "- Progress 2:selecting which domain like korean law or Europe principle\n",
    "- Progress 3:selecting which language that English Korean"
   ]
  },
  {
   "attachments": {},
   "cell_type": "markdown",
   "metadata": {},
   "source": [
    "### Pending assignments or requests\n",
    "- pending assingments:Narrowing down your domain , Decide on a language , Decide if you want to interpret or just inform voters\n",
    "- requests: Define and present your request"
   ]
  }
 ],
 "metadata": {
  "language_info": {
   "name": "python"
  },
  "orig_nbformat": 4
 },
 "nbformat": 4,
 "nbformat_minor": 2
}
