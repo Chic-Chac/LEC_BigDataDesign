{
 "cells": [
  {
   "attachments": {},
   "cell_type": "markdown",
   "metadata": {},
   "source": [
    "# Weekly Report\n",
    "- Team members: 21800419 Seong-gyu Ahn, 21800272 Sang-beom Park ,21900121 Se-hee Kim ,22000245 Byeo-ri Moon\n",
    "- Meeting Date: 05-09\n",
    "- Project Name: Development of a Pilot LLM Specifically Designed for Automotive Regulation\n",
    "- Project Goal: Creating an automotive legal chatbot to help engineers proactively address regulatory issues due to the rapid growth and dynamic changes in the automotive industry.\n"
   ]
  },
  {
   "attachments": {},
   "cell_type": "markdown",
   "metadata": {},
   "source": [
    "### Weekly plan (Fill this in)\n",
    "\n",
    "| Week    | Schedule        | Note                      |\n",
    "|---------|-----------------|---------------------------|\n",
    "| Week 9  | Meeting with the Principal Investigator | |\n",
    "| Week 10 |            Meeting with the Principal Investigator     |                  refine the domain         |\n",
    "| Week 11 |Legal domain and language decisions                 |                           |\n",
    "| Week 12 |Determine language model and training methodology                |                           |\n",
    "| Week 13 |Meeting with the Principal Investigator LLM research               |                           |\n",
    "| Week 14 |Evaluation indicator design              |                           |\n",
    "| Week 15 |Meeting with the Principal Investigator  / Write a proposal                   |                           |\n",
    "| Week 16 |middle presentation               |                           |\n",
    "\n"
   ]
  },
  {
   "attachments": {},
   "cell_type": "markdown",
   "metadata": {},
   "source": [
    "### Summary of previous meeting\n",
    "- Previous discussion: 현대자동차 개발부에서 가지는 법적 리스크에 관한 리서치\n",
    "- Comments from Professor: 제목에 무슨 발표인지 표기할 것. 학생에게 발표하는 것이 아니며, 상대가 관심있어하는 것, 이해할만한 내용을 알려주어야 함. 발표자료를 보다 일관적으로 흐름에 따라 내용이 진행되어야 함. 법률을 구조적으로 관리법-시행령-시행규칙 등등의 체계를 갖출 것. 비전이나 미래의 계획보다는 지금 현대에서 집중하는 주력차종/시장/국가를 조사하기. 결론이 반드시 포함되어야 함\n",
    "- Previous plan: 한국의 자동차관리법 및 대기환경 보전법 등의 리서치 후 현대자동차가 주력하는 시장조사"
   ]
  },
  {
   "attachments": {},
   "cell_type": "markdown",
   "metadata": {},
   "source": [
    "### Summary of working progress\n",
    "- Progress 1: 자동차 관리법, 대기환경 보전법 등 다양한 법률 체계적으로 정리\n",
    "- Progress 2: 현대자동차의 주력시장 리서치\n",
    "- Progress 3: 최종적인 결론의 제안을 위해 현대자동차 개발부에서 이러한 법을 주로 사용한 모델을 만드는 것이 필요하다고 제시하도록 결론과 근거 작성"
   ]
  },
  {
   "attachments": {},
   "cell_type": "markdown",
   "metadata": {},
   "source": [
    "### Pending assignments or requests\n",
    "- pending assingments: 법적인 문제를 가지고 있는 리콜사례를 조사하여 실질적으로 광범위한 법률을 보다 세분화하여 모델 학습에 이용\n"
   ]
  }
 ],
 "metadata": {
  "language_info": {
   "name": "python"
  },
  "orig_nbformat": 4
 },
 "nbformat": 4,
 "nbformat_minor": 2
}
