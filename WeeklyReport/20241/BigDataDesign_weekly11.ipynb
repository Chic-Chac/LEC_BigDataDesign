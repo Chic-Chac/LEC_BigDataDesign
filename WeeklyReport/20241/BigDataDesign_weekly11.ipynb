{
 "cells": [
  {
   "attachments": {},
   "cell_type": "markdown",
   "metadata": {},
   "source": [
    "# Weekly Report\n",
    "- Team members: 21800419 Seong-gyu Ahn, 21800272 Sang-beom Park ,21900121 Se-hee Kim ,22000245 Byeo-ri Moon\n",
    "- Meeting Date: 05-16\n",
    "- Project Name: Development of a Pilot LLM Specifically Designed for Automotive Regulation\n",
    "- Project Goal: Creating an automotive legal chatbot to help engineers proactively address regulatory issues due to the rapid growth and dynamic changes in the automotive industry.\n"
   ]
  },
  {
   "attachments": {},
   "cell_type": "markdown",
   "metadata": {},
   "source": [
    "### Weekly plan (Fill this in)\n",
    "\n",
    "| Week    | Schedule        | Note                      |\n",
    "|---------|-----------------|---------------------------|\n",
    "| Week 9  | Meeting with the Principal Investigator | |\n",
    "| Week 10 |            Meeting with the Principal Investigator     |                  refine the domain         |\n",
    "| Week 11 |Legal domain and language decisions                 |                           |\n",
    "| Week 12 |Determine language model and training methodology                |                           |\n",
    "| Week 13 |Meeting with the Principal Investigator LLM research               |                           |\n",
    "| Week 14 |Evaluation indicator design              |                           |\n",
    "| Week 15 |Meeting with the Principal Investigator  / Write a proposal                   |                           |\n",
    "| Week 16 |middle presentation               |                           |\n",
    "\n"
   ]
  },
  {
   "attachments": {},
   "cell_type": "markdown",
   "metadata": {},
   "source": [
    "### Summary of previous meeting\n",
    "- Previous discussion: 법률 리서치 후 어떠한 언어와 도메인을 사용하고, LLM에 유권해석까지 함께 진행할 것인지에 관한 의논\n",
    "- Comments from Professor:  위클리 리포트 작성에 대하여- weekly plan은 전체 과정을 전부 작성하여야 함. 회의록과 교수님의 코멘트는 디테일한 부분까지 작성할 것. 폴더를 만들어 주차별로 내용을 작성하여 올릴 것.\n",
    "ppt발표에서는 프로젝트의 이름이 제일 첫 번째에 위치하여야 함. 레이아웃은 우리가 원하는 내용을 조금 더 뒤쪽에 배치하고 단계적인 제안 과정을 통해 강점에 대해 어필하는 전략이 필요. 발표에서 하나의 케이스만 집중하여 말하는 것은 위험함. 하나밖에 보지 않았나 라는 생각이 들어버릴 수 있음. 좋은 전략은 다양한 법률의 케이스를 데이터로 확인시키는 것. 유권해석이라는 정보가 레이블처럼 들림. 데이터가 굉장히 많은데 케이스별로 적법한지 안 적법한지에 대한 내용이 필요함\n",
    "- Previous plan: 한국 및 해외의 리콜 그중에서도 유권해석 및 법적 오해로 생긴 문제건수 파악"
   ]
  },
  {
   "attachments": {},
   "cell_type": "markdown",
   "metadata": {},
   "source": [
    "### Summary of working progress\n",
    "- Progress 1: 한국 및 해외 자동차 리콜사례 조사\n",
    "- Progress 2: 한국 자동차 관련 법 및 해외법률 비교\n",
    "- Progress 3: 한국어와 영어의 언어모델 성능 및 가격 비교"
   ]
  },
  {
   "attachments": {},
   "cell_type": "markdown",
   "metadata": {},
   "source": [
    "### Pending assignments or requests\n",
    "- pending assingments: 한국법 및 유럽법 중 어느 법률을 사용할지, 자동차의 도메인은 무엇으로 할 것인지, 학습시키는 모델은 어떤 언어를 사용할지\n"
   ]
  }
 ],
 "metadata": {
  "language_info": {
   "name": "python"
  },
  "orig_nbformat": 4
 },
 "nbformat": 4,
 "nbformat_minor": 2
}
