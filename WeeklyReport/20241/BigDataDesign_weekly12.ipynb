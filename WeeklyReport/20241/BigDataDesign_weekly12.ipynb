{
 "cells": [
  {
   "attachments": {},
   "cell_type": "markdown",
   "metadata": {},
   "source": [
    "# Weekly Report\n",
    "- Team members: 21800419 Seong-gyu Ahn, 21800272 Sang-beom Park ,21900121 Se-hee Kim ,22000245 Byeo-ri Moon\n",
    "- Meeting Date: 05-23\n",
    "- Project Name: Development of a Pilot LLM Specifically Designed for Automotive Regulation\n",
    "- Project Goal: Creating an automotive legal chatbot to help engineers proactively address regulatory issues due to the rapid growth and dynamic changes in the automotive industry.\n"
   ]
  },
  {
   "attachments": {},
   "cell_type": "markdown",
   "metadata": {},
   "source": [
    "### Weekly plan (Fill this in)\n",
    "\n",
    "| Week    | Schedule        | Note                      |\n",
    "|---------|-----------------|---------------------------|\n",
    "| Week 9  | Meeting with the Principal Investigator | |\n",
    "| Week 10 |            Meeting with the Principal Investigator     |                  refine the domain         |\n",
    "| Week 11 |Legal domain and language decisions                 |                           |\n",
    "| Week 12 |Determine language model and training methodology                |                           |\n",
    "| Week 13 |Meeting with the Principal Investigator LLM research               |                           |\n",
    "| Week 14 |Evaluation indicator design              |                           |\n",
    "| Week 15 |Meeting with the Principal Investigator  / Write a proposal                   |                           |\n",
    "| Week 16 |middle presentation               |                           |\n",
    "\n"
   ]
  },
  {
   "attachments": {},
   "cell_type": "markdown",
   "metadata": {},
   "source": [
    "### Summary of previous meeting\n",
    "- Previous discussion: 학습을 위한 도메인과 법률, 언어를 선정하는 과정에서 리콜건수 외에 추가적인 설득력을 위한 자료수집의 필요성 논의\n",
    "- Comments from Professor: ppt에서 이전 발표때의 리뷰 및 결과를 간략하게 정리할 것. 법률분야 벤치마크가 좋으며 이 내용은 추후 어떤 법률과 도메인을 다룰것인지 정리한 후 작성할 것, 도메인 선정에서는 ppt가 설명할때 방해되지 않도록 할것, 또한 설정의 기준 역시 리콜 대수로만 판단하는 것이 아닌 법규가 많이 쓰이고, 법규의 모호성 부분을 포괄할 것.\n",
    "- Previous plan: 한국 및 해외의 리콜 및 다른 법적인 모호성에 관련해서도 서치, 해외법의 경향성에 대해서도 조사할 것"
   ]
  },
  {
   "attachments": {},
   "cell_type": "markdown",
   "metadata": {},
   "source": [
    "### Summary of working progress\n",
    "- Progress 1: 한국 및 해외 자동차의 법적인 모호성 조사\n",
    "- Progress 2: 유럽의 법률 및 국가 세부 시행령 조사\n"
   ]
  },
  {
   "attachments": {},
   "cell_type": "markdown",
   "metadata": {},
   "source": [
    "### Pending assignments or requests\n",
    "- pending assingments: 한국법 및 유럽법 중 어느 법률을 사용할지, 자동차의 도메인은 무엇으로 할 것인지, 학습시키는 모델은 어떤 언어를 사용할지\n"
   ]
  }
 ],
 "metadata": {
  "language_info": {
   "name": "python"
  },
  "orig_nbformat": 4
 },
 "nbformat": 4,
 "nbformat_minor": 2
}
