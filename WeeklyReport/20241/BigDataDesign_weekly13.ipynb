{
 "cells": [
  {
   "attachments": {},
   "cell_type": "markdown",
   "metadata": {},
   "source": [
    "# Weekly Report\n",
    "- Team members: 21800419 Seong-gyu Ahn, 21800272 Sang-beom Park ,21900121 Se-hee Kim ,22000245 Byeo-ri Moon\n",
    "- Meeting Date: 05-30\n",
    "- Project Name: Development of a Pilot LLM Specifically Designed for Automotive Regulation\n",
    "- Project Goal: Creating an automotive legal chatbot to help engineers proactively address regulatory issues due to the rapid growth and dynamic changes in the automotive industry.\n"
   ]
  },
  {
   "attachments": {},
   "cell_type": "markdown",
   "metadata": {},
   "source": [
    "### Weekly plan (Fill this in)\n",
    "\n",
    "| Week    | Schedule        | Note                      |\n",
    "|---------|-----------------|---------------------------|\n",
    "| Week 9  | Meeting with the Principal Investigator | |\n",
    "| Week 10 |            Meeting with the Principal Investigator     |                  refine the domain         |\n",
    "| Week 11 |Legal domain and language decisions                 |                           |\n",
    "| Week 12 |Determine language model and training methodology                |                           |\n",
    "| Week 13 |Meeting with the Principal Investigator LLM research               |                           |\n",
    "| Week 14 |Evaluation indicator design              |                           |\n",
    "| Week 15 |Meeting with the Principal Investigator  / Write a proposal                   |                           |\n",
    "| Week 16 |middle presentation               |                           |\n",
    "\n"
   ]
  },
  {
   "attachments": {},
   "cell_type": "markdown",
   "metadata": {},
   "source": [
    "### Summary of previous meeting\n",
    "- Previous discussion: 학습을 위한 법률은 UN ECE가 언급되었고 언어는 영어가 된다. 학습을 위한 도메인을 확실히 선정해오기.\n",
    "- Comments from Professor: 엔진은 고난이도일 것으로 예상, 자동차 기술의 집약체이기 때문에 책임님께서 말씀하신 제동장치를 도메인으로 선정하는 것이 좋을 듯 하다. 그 근거를 리콜뿐만 아니라 전체적인 부분에서 찾아볼 것. 법규 문제에 대한 해결책으로 제시한 것들이 얼마나 합리적인지 드러나게 ppt를 만들 것. 모델 구현 비교점과 rag와 fine-tuning을 하는 이유에 대해서 자세히 설명할 것.\n",
    "- Previous plan: 한국법 및 유럽법 중 어느 법률을 사용할지, 자동차의 도메인은 무엇으로 할 것인지, 학습시키는 모델은 어떤 언어를 사용할지 확실시하기."
   ]
  },
  {
   "attachments": {},
   "cell_type": "markdown",
   "metadata": {},
   "source": [
    "### Summary of working progress\n",
    "- Progress 1: 최종 발표 PPT 작성\n"
   ]
  },
  {
   "attachments": {},
   "cell_type": "markdown",
   "metadata": {},
   "source": [
    "### Pending assignments or requests\n",
    "- pending assingments: 제동장치여야 하는 근거를 더 자세히 조사하기."
   ]
  }
 ],
 "metadata": {
  "language_info": {
   "name": "python"
  },
  "orig_nbformat": 4
 },
 "nbformat": 4,
 "nbformat_minor": 2
}
