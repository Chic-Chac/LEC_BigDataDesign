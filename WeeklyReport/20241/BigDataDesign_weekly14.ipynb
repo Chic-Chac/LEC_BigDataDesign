{
 "cells": [
  {
   "attachments": {},
   "cell_type": "markdown",
   "metadata": {},
   "source": [
    "# Weekly Report\n",
    "- Team members: 21800419 Seong-gyu Ahn, 21800272 Sang-beom Park ,21900121 Se-hee Kim ,22000245 Byeo-ri Moon\n",
    "- Meeting Date: 06-07\n",
    "- Project Name: Development of a Pilot LLM Specifically Designed for Automotive Regulation\n",
    "- Project Goal: Creating an automotive legal chatbot to help engineers proactively address regulatory issues due to the rapid growth and dynamic changes in the automotive industry.\n"
   ]
  },
  {
   "attachments": {},
   "cell_type": "markdown",
   "metadata": {},
   "source": [
    "### Weekly plan (Fill this in)\n",
    "\n",
    "| Week    | Schedule        | Note                      |\n",
    "|---------|-----------------|---------------------------|\n",
    "| Week 9  | Meeting with the Principal Investigator | |\n",
    "| Week 10 |            Meeting with the Principal Investigator     |                  refine the domain         |\n",
    "| Week 11 |Legal domain and language decisions                 |                           |\n",
    "| Week 12 |Determine language model and training methodology                |                           |\n",
    "| Week 13 |Meeting with the Principal Investigator LLM research               |                           |\n",
    "| Week 14 |Evaluation indicator design              |                           |\n",
    "| Week 15 |Meeting with the Principal Investigator  / Write a proposal                   |                           |\n",
    "| Week 16 |middle presentation               |                           |\n",
    "\n"
   ]
  },
  {
   "attachments": {},
   "cell_type": "markdown",
   "metadata": {},
   "source": [
    "### Summary of previous meeting\n",
    "- Previous discussion: 최종 발표 스크립트 초안 작성, 스크립트 초안 교수님 피드백 반영\n",
    "- Comments from Professor: 단계적으로 진행되는 프로젝트의 흐름을 청중에게 명확히 설명할 필요성이 있음 (RAG와 Fine-tuning의 도입 목적), 기술적인 개념들에 대하여 어느정도 수준으로 설명할지에 대한 고민이 필요 (실현 가능성을 어느정도 보여주기 위한 구체적일 필요는 있지만 너무 지엽적인 내용은 오히려 발표에 대한 집중도를 악화 시킨다.), 향후 계획에 대해서도 구체화 할 필요가 있다.\n",
    "- Previous plan: 한국 및 해외의 리콜 및 다른 법적인 모호성에 관련해서도 서치, 해외법의 경향성에 대해서도 조사할 것"
   ]
  },
  {
   "attachments": {},
   "cell_type": "markdown",
   "metadata": {},
   "source": [
    "### Summary of working progress\n",
    "- Progress 1: RAG와 Fine-tuning의 구제적인 구현 방법에 대해서 조사 및 청중들에게 이해하기 쉬운 형태로 만들기\n",
    "- Progress 2: 발표 PPT 영번역 및 디자인 통일 작업\n"
   ]
  },
  {
   "attachments": {},
   "cell_type": "markdown",
   "metadata": {},
   "source": [
    "### Pending assignments or requests\n",
    "- pending assingments: 오픈 소스 모델 선택 및 프로프팅 테스트는 최종 발표 이후 방학에 이어서 진행\n"
   ]
  }
 ],
 "metadata": {
  "language_info": {
   "name": "python"
  },
  "orig_nbformat": 4
 },
 "nbformat": 4,
 "nbformat_minor": 2
}
