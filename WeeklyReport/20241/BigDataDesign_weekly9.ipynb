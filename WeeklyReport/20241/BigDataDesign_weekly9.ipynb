{
 "cells": [
  {
   "attachments": {},
   "cell_type": "markdown",
   "metadata": {},
   "source": [
    "# Weekly Report\n",
    "- Team members: 21800419 Seong-gyu Ahn, 21800272 Sang-beom Park ,21900121 Se-hee Kim ,22000245 Byeo-ri Moon\n",
    "- Meeting Date: 05-02\n",
    "- Project Name: Development of a Pilot LLM Specifically Designed for Automotive Regulation\n",
    "- Project Goal: Creating an automotive legal chatbot to help engineers proactively address regulatory issues due to the rapid growth and dynamic changes in the automotive industry.\n"
   ]
  },
  {
   "attachments": {},
   "cell_type": "markdown",
   "metadata": {},
   "source": [
    "### Weekly plan (Fill this in)\n",
    "\n",
    "| Week    | Schedule        | Note                      |\n",
    "|---------|-----------------|---------------------------|\n",
    "| Week 9  | Meeting with the Principal Investigator | |\n",
    "| Week 10 |            Meeting with the Principal Investigator     |                  refine the domain         |\n",
    "| Week 11 |Legal domain and language decisions                 |                           |\n",
    "| Week 12 |Determine language model and training methodology                |                           |\n",
    "| Week 13 |Meeting with the Principal Investigator LLM research               |                           |\n",
    "| Week 14 |Evaluation indicator design              |                           |\n",
    "| Week 15 |Meeting with the Principal Investigator  / Write a proposal                   |                           |\n",
    "| Week 16 |middle presentation               |                           |\n",
    "\n"
   ]
  },
  {
   "attachments": {},
   "cell_type": "markdown",
   "metadata": {},
   "source": [
    "### Summary of previous meeting\n",
    "- Previous discussion: 현대자동차 LLM 개발에 관한 전반적인 프리뷰. 다양한 법적 문제와 여기에서 발생하는 유권해석의 코스트 문제를 해결하기 위한 LLM프로젝트\n",
    "- Comments from Professor: 법규에 대한 공부가 필요하며, 추려서 ppt형식으로 발표가 필요. 이 과정에서 반드시 결론이 포함되어있어야 함.\n",
    "- Previous plan: 자동차 개발부서에서 필요로 하는 법률 리서치"
   ]
  },
  {
   "attachments": {},
   "cell_type": "markdown",
   "metadata": {},
   "source": [
    "### Summary of working progress\n",
    "- Progress 1: 자동차 개발부서에서 필요로 하는 법률 리서치\n",
    "- Progress 2: 유권해석에 관한 리서치\n",
    "- Progress 3: 국내/외 적으로 차량 개발단계에서 검사하는 시험 리서치"
   ]
  },
  {
   "attachments": {},
   "cell_type": "markdown",
   "metadata": {},
   "source": [
    "### Pending assignments or requests\n",
    "- pending assingments: 개발자들이 가지는 법률 유권해석의 의미, 다양한 인증평가제도의 추가적인 세부 내용 파악"
   ]
  }
 ],
 "metadata": {
  "language_info": {
   "name": "python"
  },
  "orig_nbformat": 4
 },
 "nbformat": 4,
 "nbformat_minor": 2
}
