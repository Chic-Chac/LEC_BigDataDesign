{
 "cells": [
  {
   "attachments": {},
   "cell_type": "markdown",
   "metadata": {},
   "source": [
    "# Weekly Report\n",
    "- Team members: 2 Kim, 2201562 Lee, 2201563 Chun\n",
    "- Meeting Date: 21800419 Seong-gyu Ahn, 21800272 Sang-beom Park ,21900121 Se-hee Kim ,22000245 Byeo-ri Moon\n",
    "- Project Name: Development of a Pilot LLM Specifically Designed for Automotive Regulation\n",
    "- Project Goal: Creating an automotive legal chatbot to help engineers proactively address regulatory issues due to the rapid growth and dynamic changes in the automotive industry.\n",
    "- "
   ]
  },
  {
   "attachments": {},
   "cell_type": "markdown",
   "metadata": {},
   "source": [
    "### Weekly plan (Fill this in)\n",
    "\n",
    "| Week    | Schedule        | Note                      |\n",
    "|---------|-----------------|---------------------------|\n",
    "| Week 9  | Meeting with the Principal Investigator | |\n",
    "| Week 10 |                 |                           |\n",
    "| Week 11 |                 |                           |\n",
    "| Week 12 |                 |                           |\n",
    "| Week 13 |                 |                           |\n",
    "| Week 14 |                 |                           |\n",
    "| Week 15 |                 |                           |\n",
    "| Week 16 |                 |                           |\n",
    "\n"
   ]
  },
  {
   "attachments": {},
   "cell_type": "markdown",
   "metadata": {},
   "source": [
    "### Summary of previous meeting\n",
    "- Previous discussion: Current status and framework of national and international motor vehicle legislation\n",
    "- Comments from Professor: Do your own research and have an ad hoc meeting with your professor\n",
    "- Previous plan: Research about vehicle legislation "
   ]
  },
  {
   "attachments": {},
   "cell_type": "markdown",
   "metadata": {},
   "source": [
    "### Summary of working progress\n",
    "- Level of progress in weekly plan: 70 % completed \n",
    "- Progress 1: \n",
    "- Progress 2:"
   ]
  },
  {
   "attachments": {},
   "cell_type": "markdown",
   "metadata": {},
   "source": [
    "### Pending assignments or requests\n",
    "- pending assingments:\n",
    "- requests:"
   ]
  }
 ],
 "metadata": {
  "language_info": {
   "name": "python"
  },
  "orig_nbformat": 4
 },
 "nbformat": 4,
 "nbformat_minor": 2
}
